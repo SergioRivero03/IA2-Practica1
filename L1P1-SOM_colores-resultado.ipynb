{
 "cells": [
  {
   "cell_type": "markdown",
   "metadata": {},
   "source": [
    "# Práctica 1 - Self-Organising Maps\n",
    "## Preparación de entorno\n",
    "#### Importar librerías de código"
   ]
  },
  {
   "cell_type": "code",
   "execution_count": 26,
   "metadata": {},
   "outputs": [
    {
     "name": "stdout",
     "output_type": "stream",
     "text": [
      "Nothing done.\n"
     ]
    }
   ],
   "source": [
    "%reset\n",
    "# from __future__ import division\n",
    "\n",
    "import numpy as np\n",
    "from matplotlib import pyplot as plt\n",
    "from matplotlib import patches as patches\n",
    "\n",
    "%matplotlib inline"
   ]
  },
  {
   "cell_type": "markdown",
   "metadata": {},
   "source": [
    "#### Dataset que se va a utilizar para el entrenamiento"
   ]
  },
  {
   "cell_type": "code",
   "execution_count": 27,
   "metadata": {
    "collapsed": true
   },
   "outputs": [
    {
     "name": "stdout",
     "output_type": "stream",
     "text": [
      "La matriz de 100 colores:\n",
      " [[ 94  66 121]\n",
      " [242  52   5]\n",
      " [225 232 189]\n",
      " [ 55 109 170]\n",
      " [245  94  14]\n",
      " [199  35 113]\n",
      " [ 96  33  91]\n",
      " [ 40 134 133]\n",
      " [ 78  11  24]\n",
      " [166 230  35]\n",
      " [202   4  50]\n",
      " [128  28 221]\n",
      " [ 79 102 150]\n",
      " [237 253 126]\n",
      " [ 98 202 196]\n",
      " [ 99  59  80]\n",
      " [234  79 104]\n",
      " [ 60 170  13]\n",
      " [ 92  92 149]\n",
      " [110 185 136]\n",
      " [239 196   2]\n",
      " [132 112 174]\n",
      " [ 60 145  53]\n",
      " [ 22 132 178]\n",
      " [211 165  22]\n",
      " [ 28 242 132]\n",
      " [238 245 201]\n",
      " [162  33 212]\n",
      " [248 160  21]\n",
      " [ 13  72 248]\n",
      " [ 75 135  17]\n",
      " [166 109 191]\n",
      " [132  10 244]\n",
      " [127 189  90]\n",
      " [  8  50  97]\n",
      " [107 235 205]\n",
      " [225  97  83]\n",
      " [ 22  57 104]\n",
      " [240  51  77]\n",
      " [135 184 194]\n",
      " [163 129  49]\n",
      " [ 54 168 239]\n",
      " [128 126  87]\n",
      " [244 122 102]\n",
      " [221  74 241]\n",
      " [178   4 185]\n",
      " [ 78 133 127]\n",
      " [209 113 254]\n",
      " [156 174 184]\n",
      " [196 200 130]\n",
      " [247 207 176]\n",
      " [ 98 228  35]\n",
      " [221 171 108]\n",
      " [ 34 112  31]\n",
      " [ 50  10 104]\n",
      " [110 142 236]\n",
      " [ 61  80  99]\n",
      " [162 179 106]\n",
      " [180 246  69]\n",
      " [180 192  50]\n",
      " [  1 159 166]\n",
      " [164 245  25]\n",
      " [223  14 254]\n",
      " [166 209 176]\n",
      " [157 156 105]\n",
      " [215 123  52]\n",
      " [228  87  81]\n",
      " [ 54 133 121]\n",
      " [165  86 222]\n",
      " [216  67 108]\n",
      " [231  49 103]\n",
      " [204 126  37]\n",
      " [103  38 254]\n",
      " [211  14 186]\n",
      " [117 243 140]\n",
      " [150   1  13]\n",
      " [242 226 177]\n",
      " [181 163 117]\n",
      " [253  17 135]\n",
      " [112  25  50]\n",
      " [179 187 103]\n",
      " [232 107 238]\n",
      " [ 95  24 217]\n",
      " [253 183 250]\n",
      " [143  27 158]\n",
      " [235  87 194]\n",
      " [ 55  94  32]\n",
      " [248 190 141]\n",
      " [220  12 139]\n",
      " [175 237  63]\n",
      " [224 137 169]\n",
      " [163 249  52]\n",
      " [131 199  58]\n",
      " [ 29  19  76]\n",
      " [ 29  92  96]\n",
      " [182  86 178]\n",
      " [222  12 218]\n",
      " [137  51 155]\n",
      " [  5 196  67]\n",
      " [  9 251 230]]\n"
     ]
    }
   ],
   "source": [
    "# Código para obtener el Dataset que se va a usar en el entrenamiento\n",
    "valor_min = 0\n",
    "valor_max = 256     #256 porque el valor máximo es exclusivo, es decir, irá de 0 a 255\n",
    "valores_color = 3\n",
    "num_colores = 100\n",
    "datos = np.random.randint(valor_min, valor_max, (num_colores, valores_color))\n",
    "print(f\"La matriz de 100 colores:\\n\",datos)\n",
    "\n",
    "\n",
    "\n",
    "\n",
    "\n"
   ]
  },
  {
   "cell_type": "markdown",
   "metadata": {},
   "source": [
    "## SOM Setup\n",
    "#### Variables definidas por el alumno"
   ]
  },
  {
   "cell_type": "code",
   "execution_count": 28,
   "metadata": {
    "collapsed": true
   },
   "outputs": [],
   "source": [
    "# Inicializa tamaño del mapa de Kohonen, número de iteraciones y learning rate\n",
    "# Inicializa normalizar_datos dependiendo de si tienes que normalizar los datos o no\n",
    "lado_mapa = 10\n",
    "periodo = 1000\n",
    "learning_rate = 0.1\n",
    "normalizar_datos = True"
   ]
  },
  {
   "cell_type": "markdown",
   "metadata": {},
   "source": [
    "#### A partir de este punto solo hay cálculos. No se introducen más valores \"a mano\""
   ]
  },
  {
   "cell_type": "code",
   "execution_count": 33,
   "metadata": {
    "collapsed": true
   },
   "outputs": [
    {
     "name": "stdout",
     "output_type": "stream",
     "text": [
      "[[0.3671875  0.2578125  0.47265625]\n",
      " [0.9453125  0.203125   0.01953125]\n",
      " [0.87890625 0.90625    0.73828125]\n",
      " [0.21484375 0.42578125 0.6640625 ]\n",
      " [0.95703125 0.3671875  0.0546875 ]\n",
      " [0.77734375 0.13671875 0.44140625]\n",
      " [0.375      0.12890625 0.35546875]\n",
      " [0.15625    0.5234375  0.51953125]\n",
      " [0.3046875  0.04296875 0.09375   ]\n",
      " [0.6484375  0.8984375  0.13671875]\n",
      " [0.7890625  0.015625   0.1953125 ]\n",
      " [0.5        0.109375   0.86328125]\n",
      " [0.30859375 0.3984375  0.5859375 ]\n",
      " [0.92578125 0.98828125 0.4921875 ]\n",
      " [0.3828125  0.7890625  0.765625  ]\n",
      " [0.38671875 0.23046875 0.3125    ]\n",
      " [0.9140625  0.30859375 0.40625   ]\n",
      " [0.234375   0.6640625  0.05078125]\n",
      " [0.359375   0.359375   0.58203125]\n",
      " [0.4296875  0.72265625 0.53125   ]\n",
      " [0.93359375 0.765625   0.0078125 ]\n",
      " [0.515625   0.4375     0.6796875 ]\n",
      " [0.234375   0.56640625 0.20703125]\n",
      " [0.0859375  0.515625   0.6953125 ]\n",
      " [0.82421875 0.64453125 0.0859375 ]\n",
      " [0.109375   0.9453125  0.515625  ]\n",
      " [0.9296875  0.95703125 0.78515625]\n",
      " [0.6328125  0.12890625 0.828125  ]\n",
      " [0.96875    0.625      0.08203125]\n",
      " [0.05078125 0.28125    0.96875   ]\n",
      " [0.29296875 0.52734375 0.06640625]\n",
      " [0.6484375  0.42578125 0.74609375]\n",
      " [0.515625   0.0390625  0.953125  ]\n",
      " [0.49609375 0.73828125 0.3515625 ]\n",
      " [0.03125    0.1953125  0.37890625]\n",
      " [0.41796875 0.91796875 0.80078125]\n",
      " [0.87890625 0.37890625 0.32421875]\n",
      " [0.0859375  0.22265625 0.40625   ]\n",
      " [0.9375     0.19921875 0.30078125]\n",
      " [0.52734375 0.71875    0.7578125 ]\n",
      " [0.63671875 0.50390625 0.19140625]\n",
      " [0.2109375  0.65625    0.93359375]\n",
      " [0.5        0.4921875  0.33984375]\n",
      " [0.953125   0.4765625  0.3984375 ]\n",
      " [0.86328125 0.2890625  0.94140625]\n",
      " [0.6953125  0.015625   0.72265625]\n",
      " [0.3046875  0.51953125 0.49609375]\n",
      " [0.81640625 0.44140625 0.9921875 ]\n",
      " [0.609375   0.6796875  0.71875   ]\n",
      " [0.765625   0.78125    0.5078125 ]\n",
      " [0.96484375 0.80859375 0.6875    ]\n",
      " [0.3828125  0.890625   0.13671875]\n",
      " [0.86328125 0.66796875 0.421875  ]\n",
      " [0.1328125  0.4375     0.12109375]\n",
      " [0.1953125  0.0390625  0.40625   ]\n",
      " [0.4296875  0.5546875  0.921875  ]\n",
      " [0.23828125 0.3125     0.38671875]\n",
      " [0.6328125  0.69921875 0.4140625 ]\n",
      " [0.703125   0.9609375  0.26953125]\n",
      " [0.703125   0.75       0.1953125 ]\n",
      " [0.00390625 0.62109375 0.6484375 ]\n",
      " [0.640625   0.95703125 0.09765625]\n",
      " [0.87109375 0.0546875  0.9921875 ]\n",
      " [0.6484375  0.81640625 0.6875    ]\n",
      " [0.61328125 0.609375   0.41015625]\n",
      " [0.83984375 0.48046875 0.203125  ]\n",
      " [0.890625   0.33984375 0.31640625]\n",
      " [0.2109375  0.51953125 0.47265625]\n",
      " [0.64453125 0.3359375  0.8671875 ]\n",
      " [0.84375    0.26171875 0.421875  ]\n",
      " [0.90234375 0.19140625 0.40234375]\n",
      " [0.796875   0.4921875  0.14453125]\n",
      " [0.40234375 0.1484375  0.9921875 ]\n",
      " [0.82421875 0.0546875  0.7265625 ]\n",
      " [0.45703125 0.94921875 0.546875  ]\n",
      " [0.5859375  0.00390625 0.05078125]\n",
      " [0.9453125  0.8828125  0.69140625]\n",
      " [0.70703125 0.63671875 0.45703125]\n",
      " [0.98828125 0.06640625 0.52734375]\n",
      " [0.4375     0.09765625 0.1953125 ]\n",
      " [0.69921875 0.73046875 0.40234375]\n",
      " [0.90625    0.41796875 0.9296875 ]\n",
      " [0.37109375 0.09375    0.84765625]\n",
      " [0.98828125 0.71484375 0.9765625 ]\n",
      " [0.55859375 0.10546875 0.6171875 ]\n",
      " [0.91796875 0.33984375 0.7578125 ]\n",
      " [0.21484375 0.3671875  0.125     ]\n",
      " [0.96875    0.7421875  0.55078125]\n",
      " [0.859375   0.046875   0.54296875]\n",
      " [0.68359375 0.92578125 0.24609375]\n",
      " [0.875      0.53515625 0.66015625]\n",
      " [0.63671875 0.97265625 0.203125  ]\n",
      " [0.51171875 0.77734375 0.2265625 ]\n",
      " [0.11328125 0.07421875 0.296875  ]\n",
      " [0.11328125 0.359375   0.375     ]\n",
      " [0.7109375  0.3359375  0.6953125 ]\n",
      " [0.8671875  0.046875   0.8515625 ]\n",
      " [0.53515625 0.19921875 0.60546875]\n",
      " [0.01953125 0.765625   0.26171875]\n",
      " [0.03515625 0.98046875 0.8984375 ]]\n"
     ]
    }
   ],
   "source": [
    "# Establece el numero de entradas del mapa y el número de datos que se van a usar para entrenar. \n",
    "# Utiliza una función que obtenga automáticamente los valores a partir del Dataset.\n",
    "\n",
    "num_entradas = np.shape(datos[1])  #shape devuelve las dimensiones de un array, datos es un array bidimensional por lo que el \n",
    "num_datos = np.shape(datos[0])      #primer valor de la tupla que devuelve son las filas y el segundo las columnas\n",
    "\n",
    "# Calcula el vecindario inicial. Debe ser la mitad del lado del mapa de Kohonen\n",
    "vecindario = lado_mapa/2\n",
    "\n",
    "# Normaliza los datos si fuese necesario dividiendo cada dato por el máximo en la matriz\n",
    "# Calculamos el valor maximo de la matriz\n",
    "\n",
    "valor_maximo = 0\n",
    "for dato in datos:\n",
    "    for valor in dato:\n",
    "        if(valor_maximo < valor):\n",
    "            valor_maximo = valor  \n",
    "      \n",
    "if normalizar_datos:\n",
    "    datos = datos/valor_max    \n",
    "    print(datos)\n",
    "    \n",
    "# Crea una matriz de pesos con valores random entre 0 y 1. Usa la función random.random de la librería NumPy\n",
    "#matriz_pesos = np.random.random((dimensiones de la matriz de pesos))"
   ]
  },
  {
   "cell_type": "markdown",
   "metadata": {},
   "source": [
    "#### Funciones para entrenar/clasificar"
   ]
  },
  {
   "cell_type": "code",
   "execution_count": 30,
   "metadata": {
    "collapsed": true
   },
   "outputs": [
    {
     "ename": "SyntaxError",
     "evalue": "incomplete input (3651684424.py, line 9)",
     "output_type": "error",
     "traceback": [
      "\u001b[1;36m  Cell \u001b[1;32mIn[30], line 9\u001b[1;36m\u001b[0m\n\u001b[1;33m    def calcular_bmu(patron_entrada, m_pesos, m):\u001b[0m\n\u001b[1;37m                                                 ^\u001b[0m\n\u001b[1;31mSyntaxError\u001b[0m\u001b[1;31m:\u001b[0m incomplete input\n"
     ]
    }
   ],
   "source": [
    "# Función para encontrar la BMU\n",
    "\"\"\"\n",
    "   Encuentra la BMU para un patrón de entrada.\n",
    "   Entradas: (patrón_de_entrada, matriz_de_pesos, número_de_entradas)\n",
    "   Salidas:  (bmu, bmu_idx) tupla donde\n",
    "               bmu: vector de pesos de la neurona ganadora\n",
    "               bum_idx: coordenadas de la neurona ganadora\n",
    "\"\"\"\n",
    "def calcular_bmu(patron_entrada, m_pesos, m):"
   ]
  },
  {
   "cell_type": "code",
   "execution_count": null,
   "metadata": {
    "collapsed": true
   },
   "outputs": [],
   "source": [
    "# Función para calcular el descenso del coeficiente de aprendizaje (eta)\n",
    "\"\"\"\n",
    "   Calcula el Learning Rate (eta) que corresponde a la i-ésima presentación.\n",
    "   Entradas: (learning_rate_inicial, iteracion, período)\n",
    "   Salidas:  learning_rate para la iteración i\n",
    "\n",
    "\"\"\"\n",
    "def variacion_learning_rate(lr_inicial, i, n_iteraciones):"
   ]
  },
  {
   "cell_type": "code",
   "execution_count": null,
   "metadata": {
    "collapsed": true
   },
   "outputs": [],
   "source": [
    "# Función para calcular el descenso del vecindario (v)\n",
    "\"\"\"\n",
    "   Calcula el vecindario  (v) que corresponde a la i-ésima presentación.\n",
    "   Entradas: (vecindario_inicial, iteracion, período)\n",
    "   Salidas:  lvecindario para la iteración i\n",
    "\n",
    "\"\"\"\n",
    "def variacion_vecindario(vecindario_inicial, i, n_iteraciones):"
   ]
  },
  {
   "cell_type": "code",
   "execution_count": null,
   "metadata": {
    "collapsed": true
   },
   "outputs": [],
   "source": [
    "# Función para calcular el descenso del coeficiente de aprendizaje (eta) en función de la distancia a la BMU\n",
    "\"\"\"\n",
    "   Calcula la amortiguación de eta en función de la distancia en el mapa entre una neurona y la BMU.\n",
    "   Entradas: (distancia_BMU, vecindario_actual)\n",
    "   Salidas:  amortiguación para la iteración\n",
    "\n",
    "\"\"\"\n",
    "def decay(distancia_BMU, vecindario_actual):\n",
    "    return np.exp(-distancia_BMU / (2* (vecindario_actual**2)))"
   ]
  },
  {
   "cell_type": "markdown",
   "metadata": {},
   "source": [
    "#### Funciones para dibujar la salida de la red"
   ]
  },
  {
   "cell_type": "code",
   "execution_count": null,
   "metadata": {
    "collapsed": true
   },
   "outputs": [],
   "source": [
    "# Función para pintar una matriz de valores como colores RGB\n",
    "def pintar_mapa(matriz_valores):\n",
    "    fig = plt.figure()\n",
    "    \n",
    "    # Establece ejes\n",
    "    ax = fig.add_subplot(111, aspect='equal')\n",
    "    ax.set_xlim((0, matriz_pesos.shape[0]+1))\n",
    "    ax.set_ylim((0, matriz_pesos.shape[1]+1))\n",
    "    ax.set_title('Self-Organising Map después de %d iteraciones' % periodo)\n",
    "\n",
    "    # Dibuja los rectángulos de color RGB\n",
    "    for x in range(1, matriz_valores.shape[0] + 1):\n",
    "        for y in range(1, matriz_valores.shape[1] + 1):\n",
    "            ax.add_patch(patches.Rectangle((x-0.5, y-0.5), 1, 1,\n",
    "                         facecolor=matriz_valores[x-1,y-1,:],\n",
    "                         edgecolor='none'))\n",
    "    plt.show()"
   ]
  },
  {
   "cell_type": "markdown",
   "metadata": {},
   "source": [
    "## SOM Entrenamiento"
   ]
  },
  {
   "cell_type": "code",
   "execution_count": null,
   "metadata": {
    "collapsed": true
   },
   "outputs": [],
   "source": [
    "# Entrena la red con el dataset de entrenamiento\n",
    "\n"
   ]
  },
  {
   "cell_type": "markdown",
   "metadata": {},
   "source": [
    "## SOM Clasificación"
   ]
  },
  {
   "cell_type": "code",
   "execution_count": null,
   "metadata": {
    "collapsed": true
   },
   "outputs": [],
   "source": [
    "# Clasifica los patrones de entrenamiento con la matriz de pesos recién entrenada\n",
    "\n"
   ]
  },
  {
   "cell_type": "markdown",
   "metadata": {},
   "source": [
    "## SOM Prueba"
   ]
  },
  {
   "cell_type": "code",
   "execution_count": null,
   "metadata": {
    "collapsed": true
   },
   "outputs": [],
   "source": [
    "# Clasifica nuevos patrones\n",
    "\n"
   ]
  }
 ],
 "metadata": {
  "anaconda-cloud": {},
  "kernelspec": {
   "display_name": "Python 3",
   "language": "python",
   "name": "python3"
  },
  "language_info": {
   "codemirror_mode": {
    "name": "ipython",
    "version": 3
   },
   "file_extension": ".py",
   "mimetype": "text/x-python",
   "name": "python",
   "nbconvert_exporter": "python",
   "pygments_lexer": "ipython3",
   "version": "3.12.9"
  }
 },
 "nbformat": 4,
 "nbformat_minor": 2
}
