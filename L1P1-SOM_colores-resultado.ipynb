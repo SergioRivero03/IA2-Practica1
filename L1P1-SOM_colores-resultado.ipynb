{
 "cells": [
  {
   "cell_type": "markdown",
   "metadata": {},
   "source": [
    "# Práctica 1 - Self-Organising Maps\n",
    "## Preparación de entorno\n",
    "#### Importar librerías de código"
   ]
  },
  {
   "cell_type": "code",
   "execution_count": 141,
   "metadata": {},
   "outputs": [
    {
     "name": "stdout",
     "output_type": "stream",
     "text": [
      "Nothing done.\n"
     ]
    }
   ],
   "source": [
    "%reset\n",
    "# from __future__ import division\n",
    "\n",
    "import numpy as np\n",
    "from matplotlib import pyplot as plt\n",
    "from matplotlib import patches as patches\n",
    "\n",
    "%matplotlib inline"
   ]
  },
  {
   "cell_type": "markdown",
   "metadata": {},
   "source": [
    "#### Dataset que se va a utilizar para el entrenamiento"
   ]
  },
  {
   "cell_type": "code",
   "execution_count": 142,
   "metadata": {
    "collapsed": true
   },
   "outputs": [
    {
     "name": "stdout",
     "output_type": "stream",
     "text": [
      "La matriz de 100 colores:\n",
      " [[163  56 221]\n",
      " [ 24 255 132]\n",
      " [193 154 250]\n",
      " [ 14 216  43]\n",
      " [199 109 216]\n",
      " [240 213 248]\n",
      " [ 49 105 219]\n",
      " [ 96 192 215]\n",
      " [164  78 208]\n",
      " [135 174  80]\n",
      " [167 241  93]\n",
      " [ 66  39 117]\n",
      " [ 86 175 204]\n",
      " [231 221 242]\n",
      " [239 120 155]\n",
      " [  3  19 134]\n",
      " [ 50 213 159]\n",
      " [222  86 238]\n",
      " [ 52 211 235]\n",
      " [  6  26 218]\n",
      " [149 228  56]\n",
      " [204 100  98]\n",
      " [ 80 178 185]\n",
      " [ 97  11 253]\n",
      " [ 98 142 241]\n",
      " [123  96  87]\n",
      " [222  72  91]\n",
      " [108 121 229]\n",
      " [225 241 215]\n",
      " [250 132   6]\n",
      " [ 37  89 129]\n",
      " [255  50 118]\n",
      " [ 34 124 153]\n",
      " [183  40 198]\n",
      " [212 216 230]\n",
      " [170 249  95]\n",
      " [252  95  66]\n",
      " [175  99 110]\n",
      " [156 232 206]\n",
      " [ 32 170 100]\n",
      " [100 253   7]\n",
      " [176 175  61]\n",
      " [111 149 141]\n",
      " [208  23 223]\n",
      " [ 16 167   2]\n",
      " [ 19 214 117]\n",
      " [ 48 149  28]\n",
      " [ 28 160 169]\n",
      " [224   1  83]\n",
      " [ 46 225 115]\n",
      " [227  34  34]\n",
      " [183  66 157]\n",
      " [159  27 230]\n",
      " [ 12  34 127]\n",
      " [194 133  83]\n",
      " [ 37  38  33]\n",
      " [206  88 169]\n",
      " [  5  18  76]\n",
      " [245   3  39]\n",
      " [128 132  18]\n",
      " [233  33 159]\n",
      " [ 33 243 231]\n",
      " [133 115 118]\n",
      " [ 84 209  79]\n",
      " [ 34  25 234]\n",
      " [ 53 219  90]\n",
      " [199 112  83]\n",
      " [157  46  65]\n",
      " [130 208  73]\n",
      " [ 72 176  61]\n",
      " [ 36 251  76]\n",
      " [ 77 156 225]\n",
      " [143 171  81]\n",
      " [ 14 214  94]\n",
      " [245  63 136]\n",
      " [144 229 177]\n",
      " [243  85 126]\n",
      " [  1 177  32]\n",
      " [218  37  18]\n",
      " [147 185 170]\n",
      " [ 70 188 124]\n",
      " [ 78 167  67]\n",
      " [236  36 214]\n",
      " [ 52  72 207]\n",
      " [219   2  87]\n",
      " [ 89   4 224]\n",
      " [ 51  81   3]\n",
      " [214  16  72]\n",
      " [103  16 255]\n",
      " [ 53  32 160]\n",
      " [230 175  51]\n",
      " [254 173 116]\n",
      " [158 120  72]\n",
      " [109  16 179]\n",
      " [ 83 217  67]\n",
      " [195   3  76]\n",
      " [179 165  48]\n",
      " [159 153 228]\n",
      " [236   0 128]\n",
      " [ 44 202 214]]\n"
     ]
    }
   ],
   "source": [
    "# Código para obtener el Dataset que se va a usar en el entrenamiento\n",
    "valor_min = 0\n",
    "valor_max = 256     #256 porque el valor máximo es exclusivo, es decir, irá de 0 a 255\n",
    "valores_color = 3\n",
    "num_colores = 100\n",
    "datos = np.random.randint(valor_min, valor_max, (num_colores, valores_color))\n",
    "print(f\"La matriz de 100 colores:\\n\",datos)\n",
    "\n",
    "\n",
    "\n",
    "\n",
    "\n"
   ]
  },
  {
   "cell_type": "markdown",
   "metadata": {},
   "source": [
    "## SOM Setup\n",
    "#### Variables definidas por el alumno"
   ]
  },
  {
   "cell_type": "code",
   "execution_count": 143,
   "metadata": {
    "collapsed": true
   },
   "outputs": [],
   "source": [
    "# Inicializa tamaño del mapa de Kohonen, número de iteraciones y learning rate\n",
    "# Inicializa normalizar_datos dependiendo de si tienes que normalizar los datos o no\n",
    "lado_mapa = 10\n",
    "periodo = 1000\n",
    "learning_rate = 0.1\n",
    "normalizar_datos = True"
   ]
  },
  {
   "cell_type": "markdown",
   "metadata": {},
   "source": [
    "#### A partir de este punto solo hay cálculos. No se introducen más valores \"a mano\""
   ]
  },
  {
   "cell_type": "code",
   "execution_count": 144,
   "metadata": {
    "collapsed": true
   },
   "outputs": [
    {
     "name": "stdout",
     "output_type": "stream",
     "text": [
      "[[0.86699513 0.68383466 0.19471528]\n",
      " [0.47021848 0.74957853 0.4712039 ]\n",
      " [0.1238536  0.1258544  0.09451756]\n",
      " [0.80458941 0.88196239 0.48575254]\n",
      " [0.55047235 0.05838932 0.54317839]\n",
      " [0.71508637 0.66226373 0.61873571]\n",
      " [0.15207757 0.08276381 0.64211744]\n",
      " [0.4568903  0.27361821 0.43568293]\n",
      " [0.37679782 0.7927875  0.59769316]\n",
      " [0.1076786  0.11797743 0.78048186]\n",
      " [0.89473062 0.26053691 0.39267105]\n",
      " [0.32359995 0.74847136 0.74484004]\n",
      " [0.687746   0.04240668 0.17363943]\n",
      " [0.71459806 0.36229629 0.45465677]\n",
      " [0.34605775 0.87373056 0.41804182]\n",
      " [0.60097453 0.15082266 0.86058388]\n",
      " [0.16714996 0.52043544 0.65399528]\n",
      " [0.15006007 0.61887753 0.124609  ]\n",
      " [0.3602151  0.78567838 0.67131736]\n",
      " [0.82406101 0.65983926 0.46697843]\n",
      " [0.50765085 0.99649696 0.09365209]\n",
      " [0.36569845 0.39651522 0.71640662]\n",
      " [0.69361662 0.54709892 0.19809803]\n",
      " [0.36803691 0.90378242 0.61539608]\n",
      " [0.75859822 0.85009347 0.4941851 ]\n",
      " [0.99307419 0.92414259 0.58739743]\n",
      " [0.21140358 0.9053684  0.347782  ]\n",
      " [0.78151317 0.13914457 0.29638461]\n",
      " [0.20678969 0.08217594 0.59530605]\n",
      " [0.16565697 0.51653806 0.58516109]\n",
      " [0.12518811 0.32346716 0.93086049]\n",
      " [0.01273222 0.59858016 0.35124743]\n",
      " [0.78967516 0.97594953 0.81792187]\n",
      " [0.67411258 0.69770858 0.39769316]\n",
      " [0.43385694 0.07530385 0.20796396]\n",
      " [0.28532739 0.10922473 0.86601979]\n",
      " [0.909321   0.64620264 0.30341359]\n",
      " [0.5634488  0.03951535 0.84335729]\n",
      " [0.43753308 0.66219008 0.01070572]\n",
      " [0.09297463 0.53645414 0.27369129]\n",
      " [0.37754453 0.94949724 0.8623631 ]\n",
      " [0.81504738 0.4005292  0.08347797]\n",
      " [0.84260581 0.20301793 0.1163468 ]\n",
      " [0.28643707 0.22244924 0.51320196]\n",
      " [0.84036769 0.51553597 0.09543522]\n",
      " [0.69900965 0.29584268 0.84819169]\n",
      " [0.15332377 0.76297958 0.57170146]\n",
      " [0.91318883 0.01514517 0.91773555]\n",
      " [0.07125795 0.23057047 0.63467134]\n",
      " [0.8391301  0.22895849 0.49101404]\n",
      " [0.43422946 0.10307792 0.21257768]\n",
      " [0.23750701 0.90332598 0.54884095]\n",
      " [0.30706135 0.16665782 0.0178846 ]\n",
      " [0.67828621 0.53683255 0.33851748]\n",
      " [0.43982587 0.81974545 0.15193909]\n",
      " [0.3674813  0.16928402 0.33410261]\n",
      " [0.97290395 0.63681637 0.5405256 ]\n",
      " [0.0909698  0.87603031 0.84086476]\n",
      " [0.77402316 0.50132763 0.92783862]\n",
      " [0.43108844 0.17268363 0.20653062]\n",
      " [0.92633227 0.6807853  0.64015846]\n",
      " [0.07603838 0.64884487 0.63877374]\n",
      " [0.23619617 0.04877123 0.7298456 ]\n",
      " [0.83033742 0.52997521 0.39151611]\n",
      " [0.64567528 0.03293558 0.21497279]\n",
      " [0.18783548 0.4092662  0.91859725]\n",
      " [0.77484928 0.30646376 0.29722217]\n",
      " [0.22174573 0.94398685 0.04493833]\n",
      " [0.53301441 0.56450845 0.73280657]\n",
      " [0.59106658 0.0397744  0.01561716]\n",
      " [0.36816202 0.28012612 0.04021001]\n",
      " [0.17350059 0.214306   0.25233793]\n",
      " [0.98093415 0.63133082 0.38329566]\n",
      " [0.29655709 0.88638219 0.87617094]\n",
      " [0.17495606 0.50586867 0.61213929]\n",
      " [0.99841936 0.05504864 0.54536438]\n",
      " [0.37161394 0.51654268 0.63292152]\n",
      " [0.33934912 0.00493311 0.46581724]\n",
      " [0.98303484 0.88938453 0.34250119]\n",
      " [0.07444009 0.21023733 0.19920275]\n",
      " [0.76853887 0.65611218 0.97818804]\n",
      " [0.32885766 0.99170209 0.82591234]\n",
      " [0.84569132 0.23664338 0.18001591]\n",
      " [0.48892758 0.92313646 0.65839822]\n",
      " [0.91277476 0.931716   0.726853  ]\n",
      " [0.39831967 0.34594373 0.34537097]\n",
      " [0.22283377 0.5617896  0.84216087]\n",
      " [0.91502219 0.87834566 0.07788356]\n",
      " [0.42357245 0.79053664 0.29429338]\n",
      " [0.86358543 0.45077459 0.95015036]\n",
      " [0.07918509 0.29338816 0.61172756]\n",
      " [0.52647482 0.40500075 0.89806778]\n",
      " [0.87672469 0.45181902 0.11706351]\n",
      " [0.6660095  0.97606456 0.01323047]\n",
      " [0.54195633 0.29551212 0.23099866]\n",
      " [0.99524988 0.70668278 0.15120308]\n",
      " [0.30142514 0.2896615  0.76635117]\n",
      " [0.35233737 0.78800607 0.57670682]\n",
      " [0.15020075 0.85072734 0.75672757]\n",
      " [0.99226806 0.53234116 0.55605598]]\n"
     ]
    }
   ],
   "source": [
    "# Establece el numero de entradas del mapa y el número de datos que se van a usar para entrenar. \n",
    "# Utiliza una función que obtenga automáticamente los valores a partir del Dataset.\n",
    "\n",
    "num_entradas = len(datos[0])   #Usamos len para contar el numero de filas y columnas\n",
    "num_datos = len(datos)     \n",
    "\n",
    "def obtener_Entrada(datos):\n",
    "   valor_aleatorio = np.random.randint(0,101)\n",
    "   return datos[valor_aleatorio]\n",
    "\n",
    "# Calcula el vecindario inicial. Debe ser la mitad del lado del mapa de Kohonen\n",
    "vecindario = lado_mapa/2\n",
    "\n",
    "# Normaliza los datos si fuese necesario dividiendo cada dato por el máximo en la matriz\n",
    "# Calculamos el valor maximo de la matriz\n",
    "\n",
    "valor_maximo = 0\n",
    "for dato in datos:\n",
    "    for valor in dato:\n",
    "        if(valor_maximo < valor):\n",
    "            valor_maximo = valor  \n",
    "      \n",
    "if normalizar_datos:\n",
    "    datos = datos/valor_max    \n",
    "    \n",
    "    \n",
    "# Crea una matriz de pesos con valores random entre 0 y 1. Usa la función random.random de la librería NumPy\n",
    "#matriz_pesos = np.random.random((dimensiones de la matriz de pesos))\n",
    "\n",
    "matriz_pesos = np.random.random((lado_mapa*lado_mapa,num_entradas))\n",
    "print(matriz_pesos)"
   ]
  },
  {
   "cell_type": "markdown",
   "metadata": {},
   "source": [
    "#### Funciones para entrenar/clasificar"
   ]
  },
  {
   "cell_type": "code",
   "execution_count": null,
   "metadata": {
    "collapsed": true
   },
   "outputs": [
    {
     "name": "stdout",
     "output_type": "stream",
     "text": [
      "El patrón de entrada es:\n",
      " [0.28125    0.6875     0.23828125]\n",
      "Y la BMU es:\n",
      "Valor: [0.42357245 0.79053664 0.29429338] \n",
      "Posicion: (8, 8)\n"
     ]
    }
   ],
   "source": [
    "# Función para encontrar la BMU\n",
    "\"\"\"\n",
    "   Encuentra la BMU para un patrón de entrada.\n",
    "   Entradas: (patrón_de_entrada, matriz_de_pesos, número_de_entradas)\n",
    "   Salidas:  (bmu, bmu_idx) tupla donde\n",
    "               bmu: vector de pesos de la neurona ganadora\n",
    "               bum_idx: coordenadas de la neurona ganadora\n",
    "\"\"\"\n",
    "\n",
    "def calcular_bmu(patron_entrada, matriz_pesos, m):\n",
    "   \n",
    "   \"\"\"\n",
    "    Diferencias es un array de 3 elementos que tendrá el cuadrado de la resta de la entrada menos el peso para calcular la distancia euclídea que\n",
    "    terminará calculándose en distancia local haciendo la raíz de la suma de los valores anteriores.\n",
    "   \n",
    "   \"\"\"\n",
    "   distancia_local = 0                      \n",
    "   distancia_minima = float('inf')\n",
    "   diferencias = np.zeros(m)\n",
    "   bmu = []\n",
    "   bmu_idx = ()\n",
    "\n",
    "   for i in range(len(matriz_pesos)):\n",
    "      for j in range(m):\n",
    "         diferencias[j] = (patron_entrada[j] - matriz_pesos[i,j]) ** 2\n",
    "      \"\"\"\n",
    "\n",
    "      Distancia local tendrá la distancia que se esté calculando en el momento, es decir, en la primera iteración tendrá la distancia de la \n",
    "      neurona 0,0 al patrón de entrada, después la de 0,1 y así sucesivamente.\n",
    "      Si la distancia local es menor que la distancia mínima consideraremos esa neurona como la bmu. En la primera iteración la primera neurona \n",
    "      será la bmu ya que distancia mínima está inicializada a infinito.\n",
    "      \n",
    "      \"\"\"\n",
    "      distancia_local = np.sqrt(np.sum(diferencias))\n",
    "      if(distancia_local < distancia_minima):\n",
    "         distancia_minima = distancia_local\n",
    "         bmu = matriz_pesos[i]\n",
    "         bmu_idx = (i//10,i%10)\n",
    "\n",
    "   # Por último retornamos la bmu y su posición\n",
    "   return (bmu, bmu_idx)\n",
    "           \n",
    "patron_entrada = obtener_Entrada(datos)      \n",
    "bmu = calcular_bmu(patron_entrada, matriz_pesos, num_entradas)\n",
    "print(f\"El patrón de entrada es:\\n\",patron_entrada)\n",
    "print(f\"Y la BMU es:\")\n",
    "print(f\"Valor:\",bmu[0],\"\\nPosicion:\",bmu[1])\n",
    "\n",
    "    \n",
    "    "
   ]
  },
  {
   "cell_type": "code",
   "execution_count": null,
   "metadata": {
    "collapsed": true
   },
   "outputs": [
    {
     "ename": "SyntaxError",
     "evalue": "incomplete input (3295362566.py, line 8)",
     "output_type": "error",
     "traceback": [
      "\u001b[1;36m  Cell \u001b[1;32mIn[146], line 8\u001b[1;36m\u001b[0m\n\u001b[1;33m    def variacion_learning_rate(lr_inicial, i, n_iteraciones):\u001b[0m\n\u001b[1;37m                                                              ^\u001b[0m\n\u001b[1;31mSyntaxError\u001b[0m\u001b[1;31m:\u001b[0m incomplete input\n"
     ]
    }
   ],
   "source": [
    "# Función para calcular el descenso del coeficiente de aprendizaje (eta)\n",
    "\"\"\"\n",
    "   Calcula el Learning Rate (eta) que corresponde a la i-ésima presentación.\n",
    "   Entradas: (learning_rate_inicial, iteracion, período)\n",
    "   Salidas:  learning_rate para la iteración i\n",
    "\n",
    "\"\"\"\n",
    "#Aplicamos la función para calcular la variación de lr\n",
    "def variacion_learning_rate(lr_inicial, i, n_iteraciones):\n",
    "    return lr_inicial * (1-(i/n_iteraciones)) "
   ]
  },
  {
   "cell_type": "code",
   "execution_count": null,
   "metadata": {
    "collapsed": true
   },
   "outputs": [],
   "source": [
    "# Función para calcular el descenso del vecindario (v)\n",
    "\"\"\"\n",
    "   Calcula el vecindario  (v) que corresponde a la i-ésima presentación.\n",
    "   Entradas: (vecindario_inicial, iteracion, período)\n",
    "   Salidas:  lvecindario para la iteración i\n",
    "\n",
    "\"\"\"\n",
    "def variacion_vecindario(vecindario_inicial, i, n_iteraciones):\n",
    "   return 1 + vecindario_inicial * (1-(i/n_iteraciones))"
   ]
  },
  {
   "cell_type": "code",
   "execution_count": null,
   "metadata": {
    "collapsed": true
   },
   "outputs": [],
   "source": [
    "# Función para calcular el descenso del coeficiente de aprendizaje (eta) en función de la distancia a la BMU\n",
    "\"\"\"\n",
    "   Calcula la amortiguación de eta en función de la distancia en el mapa entre una neurona y la BMU.\n",
    "   Entradas: (distancia_BMU, vecindario_actual)\n",
    "   Salidas:  amortiguación para la iteración\n",
    "\n",
    "\"\"\"\n",
    "def decay(distancia_BMU, vecindario_actual):\n",
    "    return np.exp(-distancia_BMU / (2* (vecindario_actual**2)))"
   ]
  },
  {
   "cell_type": "markdown",
   "metadata": {},
   "source": [
    "#### Funciones para dibujar la salida de la red"
   ]
  },
  {
   "cell_type": "code",
   "execution_count": null,
   "metadata": {
    "collapsed": true
   },
   "outputs": [],
   "source": [
    "# Función para pintar una matriz de valores como colores RGB\n",
    "def pintar_mapa(matriz_valores):\n",
    "    fig = plt.figure()\n",
    "    \n",
    "    # Establece ejes\n",
    "    ax = fig.add_subplot(111, aspect='equal')\n",
    "    ax.set_xlim((0, matriz_pesos.shape[0]+1))\n",
    "    ax.set_ylim((0, matriz_pesos.shape[1]+1))\n",
    "    ax.set_title('Self-Organising Map después de %d iteraciones' % periodo)\n",
    "\n",
    "    # Dibuja los rectángulos de color RGB\n",
    "    for x in range(1, matriz_valores.shape[0] + 1):\n",
    "        for y in range(1, matriz_valores.shape[1] + 1):\n",
    "            ax.add_patch(patches.Rectangle((x-0.5, y-0.5), 1, 1,\n",
    "                         facecolor=matriz_valores[x-1,y-1,:],\n",
    "                         edgecolor='none'))\n",
    "    plt.show()"
   ]
  },
  {
   "cell_type": "markdown",
   "metadata": {},
   "source": [
    "## SOM Entrenamiento"
   ]
  },
  {
   "cell_type": "code",
   "execution_count": null,
   "metadata": {
    "collapsed": true
   },
   "outputs": [],
   "source": [
    "# Entrena la red con el dataset de entrenamiento\n",
    "\n"
   ]
  },
  {
   "cell_type": "markdown",
   "metadata": {},
   "source": [
    "## SOM Clasificación"
   ]
  },
  {
   "cell_type": "code",
   "execution_count": null,
   "metadata": {
    "collapsed": true
   },
   "outputs": [],
   "source": [
    "# Clasifica los patrones de entrenamiento con la matriz de pesos recién entrenada\n",
    "\n"
   ]
  },
  {
   "cell_type": "markdown",
   "metadata": {},
   "source": [
    "## SOM Prueba"
   ]
  },
  {
   "cell_type": "code",
   "execution_count": null,
   "metadata": {
    "collapsed": true
   },
   "outputs": [],
   "source": [
    "# Clasifica nuevos patrones\n",
    "\n"
   ]
  }
 ],
 "metadata": {
  "anaconda-cloud": {},
  "kernelspec": {
   "display_name": "Python 3",
   "language": "python",
   "name": "python3"
  },
  "language_info": {
   "codemirror_mode": {
    "name": "ipython",
    "version": 3
   },
   "file_extension": ".py",
   "mimetype": "text/x-python",
   "name": "python",
   "nbconvert_exporter": "python",
   "pygments_lexer": "ipython3",
   "version": "3.12.9"
  }
 },
 "nbformat": 4,
 "nbformat_minor": 2
}
