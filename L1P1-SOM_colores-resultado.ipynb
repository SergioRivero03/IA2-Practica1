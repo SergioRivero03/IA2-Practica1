{
 "cells": [
  {
   "cell_type": "markdown",
   "metadata": {},
   "source": [
    "# Práctica 1 - Self-Organising Maps\n",
    "## Preparación de entorno\n",
    "#### Importar librerías de código"
   ]
  },
  {
   "cell_type": "code",
   "execution_count": 152,
   "metadata": {},
   "outputs": [
    {
     "name": "stdout",
     "output_type": "stream",
     "text": [
      "Nothing done.\n"
     ]
    }
   ],
   "source": [
    "%reset\n",
    "# from __future__ import division\n",
    "\n",
    "import numpy as np\n",
    "from matplotlib import pyplot as plt\n",
    "from matplotlib import patches as patches\n",
    "\n",
    "%matplotlib inline"
   ]
  },
  {
   "cell_type": "markdown",
   "metadata": {},
   "source": [
    "#### Dataset que se va a utilizar para el entrenamiento"
   ]
  },
  {
   "cell_type": "code",
   "execution_count": 153,
   "metadata": {
    "collapsed": true
   },
   "outputs": [
    {
     "name": "stdout",
     "output_type": "stream",
     "text": [
      "La matriz de 100 colores:\n",
      " [[211 136 179]\n",
      " [136 153  28]\n",
      " [163 180  35]\n",
      " [200 210  81]\n",
      " [144 170  11]\n",
      " [149 185 221]\n",
      " [151 196 240]\n",
      " [ 64 137  46]\n",
      " [ 39  29 198]\n",
      " [154 200  52]\n",
      " [ 77   8 231]\n",
      " [ 38  18   0]\n",
      " [ 40   5  31]\n",
      " [114 222 213]\n",
      " [ 43 202  28]\n",
      " [ 33 229 128]\n",
      " [154 209   2]\n",
      " [122  47 221]\n",
      " [ 21  60   4]\n",
      " [163  71 139]\n",
      " [103  21 205]\n",
      " [140  17  21]\n",
      " [108  38 167]\n",
      " [ 47  68 228]\n",
      " [106 126 110]\n",
      " [205 171 163]\n",
      " [ 44 124 219]\n",
      " [ 20 215 133]\n",
      " [ 87  38 116]\n",
      " [ 82   8  80]\n",
      " [ 22 186  53]\n",
      " [ 84   7 191]\n",
      " [ 32 136  63]\n",
      " [ 38 206 164]\n",
      " [252  30 112]\n",
      " [170  90 213]\n",
      " [  6 181 152]\n",
      " [227 215  80]\n",
      " [130 165 215]\n",
      " [136 231 226]\n",
      " [ 17 173 234]\n",
      " [197  97 202]\n",
      " [ 56 203 239]\n",
      " [232 152 229]\n",
      " [235 167 112]\n",
      " [116 138  30]\n",
      " [ 34 253  90]\n",
      " [190 158  32]\n",
      " [253 149   2]\n",
      " [229  36  14]\n",
      " [138 171 126]\n",
      " [132 164  89]\n",
      " [ 62 171 137]\n",
      " [235 255  75]\n",
      " [170 216 123]\n",
      " [ 49  12 164]\n",
      " [ 21 141  84]\n",
      " [164  12 101]\n",
      " [238 217 102]\n",
      " [175 211 223]\n",
      " [ 12  45 131]\n",
      " [ 47 246 243]\n",
      " [116 178  55]\n",
      " [151  59  50]\n",
      " [131  43 163]\n",
      " [143  25  40]\n",
      " [241  99 180]\n",
      " [187  55  64]\n",
      " [239 198  94]\n",
      " [ 33  12  67]\n",
      " [ 34  28 250]\n",
      " [156  36  40]\n",
      " [211  32  58]\n",
      " [ 47  41 193]\n",
      " [123 238 227]\n",
      " [240  42 144]\n",
      " [150 186  12]\n",
      " [ 49 128 215]\n",
      " [111 105 160]\n",
      " [213 228  87]\n",
      " [ 70 221  30]\n",
      " [  1 221 167]\n",
      " [145 223 137]\n",
      " [139 239 119]\n",
      " [ 62  92 223]\n",
      " [  0 190 242]\n",
      " [ 73 217 190]\n",
      " [117 121  89]\n",
      " [175  11  78]\n",
      " [135  29 172]\n",
      " [ 63  84 104]\n",
      " [238  43   2]\n",
      " [149 166 240]\n",
      " [ 77 159 222]\n",
      " [133 198 213]\n",
      " [180  66 249]\n",
      " [ 88 191 134]\n",
      " [233 134 165]\n",
      " [160  94  63]\n",
      " [ 31 243 229]]\n"
     ]
    }
   ],
   "source": [
    "# Código para obtener el Dataset que se va a usar en el entrenamiento\n",
    "valor_min = 0\n",
    "valor_max = 256     #256 porque el valor máximo es exclusivo, es decir, irá de 0 a 255\n",
    "valores_color = 3\n",
    "num_colores = 100\n",
    "datos = np.random.randint(valor_min, valor_max, (num_colores, valores_color))\n",
    "print(f\"La matriz de 100 colores:\\n\",datos)\n",
    "\n",
    "\n",
    "\n",
    "\n",
    "\n"
   ]
  },
  {
   "cell_type": "markdown",
   "metadata": {},
   "source": [
    "## SOM Setup\n",
    "#### Variables definidas por el alumno"
   ]
  },
  {
   "cell_type": "code",
   "execution_count": 154,
   "metadata": {
    "collapsed": true
   },
   "outputs": [],
   "source": [
    "# Inicializa tamaño del mapa de Kohonen, número de iteraciones y learning rate\n",
    "# Inicializa normalizar_datos dependiendo de si tienes que normalizar los datos o no\n",
    "lado_mapa = 10\n",
    "periodo = 1000\n",
    "learning_rate = 0.1\n",
    "normalizar_datos = True"
   ]
  },
  {
   "cell_type": "markdown",
   "metadata": {},
   "source": [
    "#### A partir de este punto solo hay cálculos. No se introducen más valores \"a mano\""
   ]
  },
  {
   "cell_type": "code",
   "execution_count": 155,
   "metadata": {
    "collapsed": true
   },
   "outputs": [
    {
     "name": "stdout",
     "output_type": "stream",
     "text": [
      "[[0.95214653 0.49903192 0.39783696]\n",
      " [0.85475064 0.2054646  0.17649165]\n",
      " [0.54877577 0.7601655  0.52226736]\n",
      " [0.25124306 0.42774795 0.31445149]\n",
      " [0.50242115 0.59955816 0.85294922]\n",
      " [0.96549028 0.12724109 0.66221951]\n",
      " [0.85869169 0.09915578 0.26005992]\n",
      " [0.86681396 0.15608379 0.92782496]\n",
      " [0.09273405 0.84102425 0.381894  ]\n",
      " [0.50376167 0.15595837 0.86954664]\n",
      " [0.44892839 0.52607478 0.38129112]\n",
      " [0.05226531 0.38296374 0.19152376]\n",
      " [0.2659738  0.53074431 0.63019319]\n",
      " [0.84468718 0.61560882 0.88785838]\n",
      " [0.81439516 0.88465678 0.84034027]\n",
      " [0.60660271 0.45678351 0.52652807]\n",
      " [0.77865314 0.36920863 0.23774551]\n",
      " [0.92484928 0.13606427 0.32886549]\n",
      " [0.35585034 0.42662352 0.66590419]\n",
      " [0.86171341 0.65651047 0.87897859]\n",
      " [0.0940234  0.86513765 0.06568651]\n",
      " [0.62867782 0.59822611 0.0664893 ]\n",
      " [0.01956951 0.8907639  0.98011526]\n",
      " [0.7825247  0.19833082 0.79677454]\n",
      " [0.60411334 0.94885724 0.35282733]\n",
      " [0.55459302 0.22523188 0.70610121]\n",
      " [0.55248501 0.48916519 0.24402236]\n",
      " [0.02571449 0.64276402 0.18434531]\n",
      " [0.77922833 0.0209356  0.30032494]\n",
      " [0.95967546 0.02731253 0.9069129 ]\n",
      " [0.40131377 0.87457542 0.64762145]\n",
      " [0.90913141 0.38927215 0.54930803]\n",
      " [0.93681624 0.14624627 0.00506955]\n",
      " [0.6058762  0.84628206 0.6476859 ]\n",
      " [0.82575471 0.99952507 0.57909686]\n",
      " [0.12491174 0.82876957 0.4808455 ]\n",
      " [0.03039891 0.94967876 0.89877625]\n",
      " [0.4275814  0.43054101 0.04421197]\n",
      " [0.63748652 0.86343477 0.80795927]\n",
      " [0.1865002  0.45100042 0.84769523]\n",
      " [0.89012556 0.10754793 0.53488342]\n",
      " [0.26224718 0.09261566 0.77410674]\n",
      " [0.49402304 0.09533865 0.46201135]\n",
      " [0.82648942 0.21989788 0.55178947]\n",
      " [0.18986408 0.51719879 0.0264105 ]\n",
      " [0.03760172 0.77463647 0.65463238]\n",
      " [0.44713289 0.61173769 0.15161091]\n",
      " [0.29176208 0.42363601 0.56216383]\n",
      " [0.94061329 0.72055488 0.35442725]\n",
      " [0.60330503 0.07102765 0.26793978]\n",
      " [0.04663681 0.58352882 0.92074458]\n",
      " [0.34689047 0.76038457 0.9738398 ]\n",
      " [0.11280141 0.40755201 0.05946933]\n",
      " [0.39436164 0.12575338 0.28851309]\n",
      " [0.83512341 0.5713461  0.46007497]\n",
      " [0.13807396 0.69277607 0.577291  ]\n",
      " [0.46577705 0.67990942 0.56970421]\n",
      " [0.22097703 0.40691604 0.58045118]\n",
      " [0.85076877 0.87012773 0.91328523]\n",
      " [0.32631287 0.819483   0.01028348]\n",
      " [0.4953451  0.08546109 0.96480973]\n",
      " [0.14297681 0.29182667 0.02786492]\n",
      " [0.23139162 0.48074544 0.98188493]\n",
      " [0.37493737 0.01600947 0.85780541]\n",
      " [0.09687048 0.73290585 0.44757206]\n",
      " [0.46379063 0.51914692 0.6713093 ]\n",
      " [0.09537356 0.68413454 0.49989244]\n",
      " [0.32328065 0.47533331 0.19069675]\n",
      " [0.96547502 0.607281   0.49270665]\n",
      " [0.49598268 0.40276596 0.52954969]\n",
      " [0.76766424 0.04183817 0.27033602]\n",
      " [0.79378396 0.8115778  0.5221663 ]\n",
      " [0.51332544 0.23783544 0.06307256]\n",
      " [0.30464181 0.83825999 0.36929492]\n",
      " [0.87865178 0.49052259 0.54916156]\n",
      " [0.75721821 0.15797159 0.93242118]\n",
      " [0.52712581 0.70020738 0.65588044]\n",
      " [0.71927902 0.12233087 0.22073263]\n",
      " [0.93594861 0.6860525  0.66013533]\n",
      " [0.98896332 0.83860412 0.64103113]\n",
      " [0.02559009 0.71791097 0.81968223]\n",
      " [0.22935523 0.22014829 0.12612073]\n",
      " [0.15390639 0.3109371  0.65626561]\n",
      " [0.24192112 0.75885793 0.58386113]\n",
      " [0.23399309 0.9128562  0.39098914]\n",
      " [0.12119662 0.04676239 0.24063354]\n",
      " [0.71772523 0.28910664 0.38871736]\n",
      " [0.95117641 0.03265128 0.16478411]\n",
      " [0.81127169 0.54334945 0.38977925]\n",
      " [0.2485513  0.3033189  0.14371907]\n",
      " [0.10380035 0.50463613 0.24593342]\n",
      " [0.96201245 0.37042891 0.22225852]\n",
      " [0.70967543 0.07264802 0.74580566]\n",
      " [0.02290456 0.21974465 0.26612933]\n",
      " [0.88082158 0.7832138  0.0488185 ]\n",
      " [0.86077913 0.74647025 0.89419118]\n",
      " [0.999727   0.11261927 0.20247291]\n",
      " [0.55672662 0.33673039 0.32471068]\n",
      " [0.02940268 0.21536718 0.47506817]\n",
      " [0.54927184 0.17003746 0.10667868]]\n"
     ]
    }
   ],
   "source": [
    "# Establece el numero de entradas del mapa y el número de datos que se van a usar para entrenar. \n",
    "# Utiliza una función que obtenga automáticamente los valores a partir del Dataset.\n",
    "\n",
    "num_entradas = len(datos[0])   #Usamos len para contar el numero de filas y columnas\n",
    "num_datos = len(datos)     \n",
    "\n",
    "def obtener_Entrada(datos):\n",
    "   valor_aleatorio = np.random.randint(0,101)\n",
    "   return datos[valor_aleatorio]\n",
    "\n",
    "# Calcula el vecindario inicial. Debe ser la mitad del lado del mapa de Kohonen\n",
    "vecindario = lado_mapa/2\n",
    "\n",
    "# Normaliza los datos si fuese necesario dividiendo cada dato por el máximo en la matriz\n",
    "# Calculamos el valor maximo de la matriz\n",
    "\n",
    "valor_maximo = 0\n",
    "for dato in datos:\n",
    "    for valor in dato:\n",
    "        if(valor_maximo < valor):\n",
    "            valor_maximo = valor  \n",
    "      \n",
    "if normalizar_datos:\n",
    "    datos = datos/valor_max    \n",
    "    \n",
    "    \n",
    "# Crea una matriz de pesos con valores random entre 0 y 1. Usa la función random.random de la librería NumPy\n",
    "#matriz_pesos = np.random.random((dimensiones de la matriz de pesos))\n",
    "\n",
    "matriz_pesos = np.random.random((lado_mapa*lado_mapa,num_entradas))\n",
    "print(matriz_pesos)"
   ]
  },
  {
   "cell_type": "markdown",
   "metadata": {},
   "source": [
    "#### Funciones para entrenar/clasificar"
   ]
  },
  {
   "cell_type": "code",
   "execution_count": 156,
   "metadata": {
    "collapsed": true
   },
   "outputs": [
    {
     "name": "stdout",
     "output_type": "stream",
     "text": [
      "El patrón de entrada es:\n",
      " [0.51953125 0.7734375  0.83203125]\n",
      "Y la BMU es:\n",
      "Valor: [0.63748652 0.86343477 0.80795927] \n",
      "Posicion: (3, 8)\n"
     ]
    }
   ],
   "source": [
    "# Función para encontrar la BMU\n",
    "\"\"\"\n",
    "   Encuentra la BMU para un patrón de entrada.\n",
    "   Entradas: (patrón_de_entrada, matriz_de_pesos, número_de_entradas)\n",
    "   Salidas:  (bmu, bmu_idx) tupla donde\n",
    "               bmu: vector de pesos de la neurona ganadora\n",
    "               bum_idx: coordenadas de la neurona ganadora\n",
    "\"\"\"\n",
    "\n",
    "def calcular_bmu(patron_entrada, matriz_pesos, m):\n",
    "   \n",
    "   \"\"\"\n",
    "    Diferencias es un array de 3 elementos que tendrá el cuadrado de la resta de la entrada menos el peso para calcular la distancia euclídea que\n",
    "    terminará calculándose en distancia local haciendo la raíz de la suma de los valores anteriores.\n",
    "   \n",
    "   \"\"\"\n",
    "   distancia_local = 0                      \n",
    "   distancia_minima = float('inf')\n",
    "   diferencias = np.zeros(m)\n",
    "   bmu = []\n",
    "   bmu_idx = ()\n",
    "\n",
    "   for i in range(len(matriz_pesos)):\n",
    "      for j in range(m):\n",
    "         diferencias[j] = (patron_entrada[j] - matriz_pesos[i,j]) ** 2\n",
    "      \"\"\"\n",
    "\n",
    "      Distancia local tendrá la distancia que se esté calculando en el momento, es decir, en la primera iteración tendrá la distancia de la \n",
    "      neurona 0,0 al patrón de entrada, después la de 0,1 y así sucesivamente.\n",
    "      Si la distancia local es menor que la distancia mínima consideraremos esa neurona como la bmu. En la primera iteración la primera neurona \n",
    "      será la bmu ya que distancia mínima está inicializada a infinito.\n",
    "      \n",
    "      \"\"\"\n",
    "      distancia_local = np.sqrt(np.sum(diferencias))\n",
    "      if(distancia_local < distancia_minima):\n",
    "         distancia_minima = distancia_local\n",
    "         bmu = matriz_pesos[i]\n",
    "         bmu_idx = (i//10,i%10)\n",
    "\n",
    "   # Por último retornamos la bmu y su posición\n",
    "   return (bmu, bmu_idx)\n",
    "           \n",
    "patron_entrada = obtener_Entrada(datos)      \n",
    "bmu = calcular_bmu(patron_entrada, matriz_pesos, num_entradas)\n",
    "print(f\"El patrón de entrada es:\\n\",patron_entrada)\n",
    "print(f\"Y la BMU es:\")\n",
    "print(f\"Valor:\",bmu[0],\"\\nPosicion:\",bmu[1])\n",
    "\n",
    "    \n",
    "    "
   ]
  },
  {
   "cell_type": "code",
   "execution_count": 157,
   "metadata": {
    "collapsed": true
   },
   "outputs": [],
   "source": [
    "# Función para calcular el descenso del coeficiente de aprendizaje (eta)\n",
    "\"\"\"\n",
    "   Calcula el Learning Rate (eta) que corresponde a la i-ésima presentación.\n",
    "   Entradas: (learning_rate_inicial, iteracion, período)\n",
    "   Salidas:  learning_rate para la iteración i\n",
    "\n",
    "\"\"\"\n",
    "#Aplicamos la función para calcular la variación de lr\n",
    "def variacion_learning_rate(lr_inicial, i, n_iteraciones):\n",
    "    return lr_inicial * (1-(i/n_iteraciones)) "
   ]
  },
  {
   "cell_type": "code",
   "execution_count": 158,
   "metadata": {
    "collapsed": true
   },
   "outputs": [],
   "source": [
    "# Función para calcular el descenso del vecindario (v)\n",
    "\"\"\"\n",
    "   Calcula el vecindario  (v) que corresponde a la i-ésima presentación.\n",
    "   Entradas: (vecindario_inicial, iteracion, período)\n",
    "   Salidas:  lvecindario para la iteración i\n",
    "\n",
    "\"\"\"\n",
    "def variacion_vecindario(vecindario_inicial, i, n_iteraciones):\n",
    "   return 1 + vecindario_inicial * (1-(i/n_iteraciones))"
   ]
  },
  {
   "cell_type": "code",
   "execution_count": 159,
   "metadata": {
    "collapsed": true
   },
   "outputs": [],
   "source": [
    "# Función para calcular el descenso del coeficiente de aprendizaje (eta) en función de la distancia a la BMU\n",
    "\"\"\"\n",
    "   Calcula la amortiguación de eta en función de la distancia en el mapa entre una neurona y la BMU.\n",
    "   Entradas: (distancia_BMU, vecindario_actual)\n",
    "   Salidas:  amortiguación para la iteración\n",
    "\n",
    "\"\"\"\n",
    "def decay(distancia_BMU, vecindario_actual):\n",
    "    return np.exp(-distancia_BMU / (2* (vecindario_actual**2)))"
   ]
  },
  {
   "cell_type": "markdown",
   "metadata": {},
   "source": [
    "#### Funciones para dibujar la salida de la red"
   ]
  },
  {
   "cell_type": "code",
   "execution_count": 160,
   "metadata": {
    "collapsed": true
   },
   "outputs": [],
   "source": [
    "# Función para pintar una matriz de valores como colores RGB\n",
    "def pintar_mapa(matriz_valores):\n",
    "    fig = plt.figure()\n",
    "    \n",
    "    # Establece ejes\n",
    "    ax = fig.add_subplot(111, aspect='equal')\n",
    "    ax.set_xlim((0, matriz_pesos.shape[0]+1))\n",
    "    ax.set_ylim((0, matriz_pesos.shape[1]+1))\n",
    "    ax.set_title('Self-Organising Map después de %d iteraciones' % periodo)\n",
    "\n",
    "    # Dibuja los rectángulos de color RGB\n",
    "    for x in range(1, matriz_valores.shape[0] + 1):\n",
    "        for y in range(1, matriz_valores.shape[1] + 1):\n",
    "            ax.add_patch(patches.Rectangle((x-0.5, y-0.5), 1, 1,\n",
    "                         facecolor=matriz_valores[x-1,y-1,:],\n",
    "                         edgecolor='none'))\n",
    "    plt.show()"
   ]
  },
  {
   "cell_type": "markdown",
   "metadata": {},
   "source": [
    "## SOM Entrenamiento"
   ]
  },
  {
   "cell_type": "code",
   "execution_count": 161,
   "metadata": {
    "collapsed": true
   },
   "outputs": [],
   "source": [
    "# Entrena la red con el dataset de entrenamiento\n",
    "\n"
   ]
  },
  {
   "cell_type": "markdown",
   "metadata": {},
   "source": [
    "## SOM Clasificación"
   ]
  },
  {
   "cell_type": "code",
   "execution_count": 162,
   "metadata": {
    "collapsed": true
   },
   "outputs": [],
   "source": [
    "# Clasifica los patrones de entrenamiento con la matriz de pesos recién entrenada\n",
    "\n"
   ]
  },
  {
   "cell_type": "markdown",
   "metadata": {},
   "source": [
    "## SOM Prueba"
   ]
  },
  {
   "cell_type": "code",
   "execution_count": 163,
   "metadata": {
    "collapsed": true
   },
   "outputs": [],
   "source": [
    "# Clasifica nuevos patrones\n",
    "\n"
   ]
  }
 ],
 "metadata": {
  "anaconda-cloud": {},
  "kernelspec": {
   "display_name": "Python 3",
   "language": "python",
   "name": "python3"
  },
  "language_info": {
   "codemirror_mode": {
    "name": "ipython",
    "version": 3
   },
   "file_extension": ".py",
   "mimetype": "text/x-python",
   "name": "python",
   "nbconvert_exporter": "python",
   "pygments_lexer": "ipython3",
   "version": "3.12.9"
  }
 },
 "nbformat": 4,
 "nbformat_minor": 2
}
