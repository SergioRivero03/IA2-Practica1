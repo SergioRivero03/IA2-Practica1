{
 "cells": [
  {
   "cell_type": "markdown",
   "metadata": {},
   "source": [
    "# Práctica 1 - Self-Organising Maps\n",
    "## Preparación de entorno\n",
    "#### Importar librerías de código"
   ]
  },
  {
   "cell_type": "code",
   "execution_count": 2,
   "metadata": {},
   "outputs": [
    {
     "name": "stdout",
     "output_type": "stream",
     "text": [
      "Nothing done.\n"
     ]
    }
   ],
   "source": [
    "%reset\n",
    "# from __future__ import division\n",
    "\n",
    "import numpy as np\n",
    "from matplotlib import pyplot as plt\n",
    "from matplotlib import patches as patches\n",
    "\n",
    "%matplotlib inline"
   ]
  },
  {
   "cell_type": "markdown",
   "metadata": {},
   "source": [
    "#### Dataset que se va a utilizar para el entrenamiento"
   ]
  },
  {
   "cell_type": "code",
   "execution_count": 3,
   "metadata": {
    "collapsed": true
   },
   "outputs": [
    {
     "name": "stdout",
     "output_type": "stream",
     "text": [
      "La matriz de 100 colores:\n",
      " [[ 27 157 180]\n",
      " [ 29 158 144]\n",
      " [115 191  20]\n",
      " [ 79 151 169]\n",
      " [ 79 129 122]\n",
      " [225 243 172]\n",
      " [ 24 227 104]\n",
      " [168 131  81]\n",
      " [117 165 106]\n",
      " [ 64 253 156]\n",
      " [  9 133 201]\n",
      " [131  76 121]\n",
      " [137  93 194]\n",
      " [ 71  19 140]\n",
      " [159 209  82]\n",
      " [200 211  39]\n",
      " [162 133 202]\n",
      " [201 170 142]\n",
      " [203  77  22]\n",
      " [116 249 176]\n",
      " [122  63  87]\n",
      " [ 41 130  49]\n",
      " [197 157 238]\n",
      " [244 179 170]\n",
      " [160 166 139]\n",
      " [ 79 118  50]\n",
      " [ 85  79 224]\n",
      " [121 185  47]\n",
      " [141 253 183]\n",
      " [175 152 157]\n",
      " [139 227 191]\n",
      " [242  61 125]\n",
      " [ 83 109  56]\n",
      " [135 189 192]\n",
      " [243  80 245]\n",
      " [ 57  14 248]\n",
      " [207  10 127]\n",
      " [168 241 158]\n",
      " [228  69 106]\n",
      " [169  43 213]\n",
      " [124 167  27]\n",
      " [ 53 223  98]\n",
      " [128 146 119]\n",
      " [213  62 173]\n",
      " [235   4 130]\n",
      " [182  75 149]\n",
      " [161  43   2]\n",
      " [158   8  21]\n",
      " [207  32 230]\n",
      " [226 135 149]\n",
      " [ 71 162 188]\n",
      " [ 92  23 235]\n",
      " [209 199 165]\n",
      " [116 121 243]\n",
      " [ 39  12 135]\n",
      " [225 117 249]\n",
      " [ 99 110   8]\n",
      " [ 33  34 246]\n",
      " [ 49  53  99]\n",
      " [247 142 245]\n",
      " [219  10  33]\n",
      " [187  68   9]\n",
      " [ 22  84 218]\n",
      " [230 195 192]\n",
      " [ 39 216  68]\n",
      " [  5  98 144]\n",
      " [ 82  66  65]\n",
      " [151 195 106]\n",
      " [ 70  18   7]\n",
      " [164  96 192]\n",
      " [110 190 159]\n",
      " [181  19 174]\n",
      " [191 102 139]\n",
      " [220 186  80]\n",
      " [218  22  75]\n",
      " [210 155  23]\n",
      " [ 44 104 182]\n",
      " [153 225 192]\n",
      " [  9 248  44]\n",
      " [167 163 121]\n",
      " [195 183 226]\n",
      " [235  67  12]\n",
      " [ 97 182 185]\n",
      " [ 48  22 189]\n",
      " [212  69  41]\n",
      " [ 18 194  50]\n",
      " [ 98 104  37]\n",
      " [ 75 193  31]\n",
      " [ 54 254 114]\n",
      " [ 35 232 130]\n",
      " [222 184  64]\n",
      " [202 162 137]\n",
      " [ 14 100  59]\n",
      " [ 76  65 242]\n",
      " [ 93 134 101]\n",
      " [105 128 159]\n",
      " [ 90 151 109]\n",
      " [156 129 251]\n",
      " [ 30  48  70]\n",
      " [216  89 222]]\n"
     ]
    }
   ],
   "source": [
    "# Código para obtener el Dataset que se va a usar en el entrenamiento\n",
    "valor_min = 0\n",
    "valor_max = 256     #256 porque el valor máximo es exclusivo, es decir, irá de 0 a 255\n",
    "valores_color = 3\n",
    "num_colores = 100\n",
    "datos = np.random.randint(valor_min, valor_max, (num_colores, valores_color))\n",
    "print(f\"La matriz de 100 colores:\\n\",datos)\n",
    "\n",
    "\n",
    "\n",
    "\n",
    "\n"
   ]
  },
  {
   "cell_type": "markdown",
   "metadata": {},
   "source": [
    "## SOM Setup\n",
    "#### Variables definidas por el alumno"
   ]
  },
  {
   "cell_type": "code",
   "execution_count": 4,
   "metadata": {
    "collapsed": true
   },
   "outputs": [],
   "source": [
    "# Inicializa tamaño del mapa de Kohonen, número de iteraciones y learning rate\n",
    "# Inicializa normalizar_datos dependiendo de si tienes que normalizar los datos o no\n",
    "lado_mapa = 10\n",
    "periodo = 1000\n",
    "learning_rate = 0.1\n",
    "normalizar_datos = True"
   ]
  },
  {
   "cell_type": "markdown",
   "metadata": {},
   "source": [
    "#### A partir de este punto solo hay cálculos. No se introducen más valores \"a mano\""
   ]
  },
  {
   "cell_type": "code",
   "execution_count": 9,
   "metadata": {
    "collapsed": true
   },
   "outputs": [
    {
     "name": "stdout",
     "output_type": "stream",
     "text": [
      "[[0.52697487 0.18748737 0.37845773]\n",
      " [0.80428439 0.50563414 0.79775313]\n",
      " [0.51183255 0.51920367 0.3052875 ]\n",
      " [0.65457535 0.90511297 0.83711218]\n",
      " [0.45006104 0.40169959 0.09096412]\n",
      " [0.53006059 0.59137522 0.71617143]\n",
      " [0.85067852 0.64260604 0.17067407]\n",
      " [0.56349811 0.56783994 0.01054729]\n",
      " [0.96407516 0.3377648  0.12468553]\n",
      " [0.03106471 0.6944854  0.32440948]\n",
      " [0.01918853 0.03211793 0.8911761 ]\n",
      " [0.06779807 0.8341059  0.82141244]\n",
      " [0.15231194 0.1673051  0.90396959]\n",
      " [0.31702736 0.33290495 0.60618813]\n",
      " [0.5498076  0.27505812 0.34248651]\n",
      " [0.4679716  0.06940978 0.06065595]\n",
      " [0.51025139 0.03777014 0.14731754]\n",
      " [0.4642015  0.19041006 0.48713998]\n",
      " [0.03457102 0.6280124  0.56542753]\n",
      " [0.35686145 0.33901425 0.36487799]\n",
      " [0.50622838 0.27175404 0.40638478]\n",
      " [0.9300082  0.35277563 0.09586698]\n",
      " [0.18980971 0.36338972 0.70360242]\n",
      " [0.95380534 0.68217105 0.64887095]\n",
      " [0.43601073 0.74624456 0.57578346]\n",
      " [0.48019443 0.63757977 0.19941752]\n",
      " [0.04711027 0.14970521 0.98688373]\n",
      " [0.19772348 0.54659777 0.21333277]\n",
      " [0.90506703 0.52647688 0.49749381]\n",
      " [0.65220341 0.07470586 0.5394431 ]\n",
      " [0.76274652 0.98244371 0.03680866]\n",
      " [0.22110884 0.71930489 0.00464334]\n",
      " [0.84258293 0.2360733  0.2150581 ]\n",
      " [0.73089252 0.48007851 0.18148371]\n",
      " [0.47883326 0.43922943 0.98914221]\n",
      " [0.68604155 0.02730285 0.64551783]\n",
      " [0.77381555 0.36255163 0.67168564]\n",
      " [0.01349785 0.81559158 0.84599643]\n",
      " [0.54351099 0.52454473 0.67759913]\n",
      " [0.6274607  0.55016596 0.6083703 ]\n",
      " [0.49607008 0.50356784 0.56446943]\n",
      " [0.05757181 0.73534383 0.82041898]\n",
      " [0.97781557 0.38163726 0.63925506]\n",
      " [0.33090883 0.3618668  0.85439652]\n",
      " [0.44673379 0.17827405 0.79539667]\n",
      " [0.80087099 0.45297761 0.74590319]\n",
      " [0.39569122 0.95431931 0.36823245]\n",
      " [0.02572112 0.25877704 0.33002898]\n",
      " [0.53908322 0.58372346 0.54260897]\n",
      " [0.57876036 0.92493005 0.17642544]\n",
      " [0.86064713 0.46267079 0.93754609]\n",
      " [0.12835928 0.70618282 0.74198009]\n",
      " [0.0789064  0.85287436 0.17259245]\n",
      " [0.53778806 0.8602559  0.50132389]\n",
      " [0.10145101 0.74546993 0.89317065]\n",
      " [0.52315623 0.58919857 0.2858849 ]\n",
      " [0.37847089 0.00572095 0.48110364]\n",
      " [0.73545596 0.31068807 0.67084375]\n",
      " [0.69152291 0.75687442 0.03726514]\n",
      " [0.58851945 0.69297419 0.99881637]\n",
      " [0.76244129 0.13573523 0.66352183]\n",
      " [0.79689892 0.71746367 0.46031638]\n",
      " [0.70363068 0.98829305 0.72543109]\n",
      " [0.92393339 0.7716057  0.9005846 ]\n",
      " [0.23475931 0.4798587  0.26933369]\n",
      " [0.14033207 0.66688667 0.79484507]\n",
      " [0.90526025 0.87531578 0.04960585]\n",
      " [0.41497424 0.87673058 0.87676902]\n",
      " [0.13603078 0.26885914 0.39269897]\n",
      " [0.15249548 0.4887912  0.06898041]\n",
      " [0.28613224 0.25944595 0.85922447]\n",
      " [0.14400902 0.9960964  0.37187282]\n",
      " [0.12633688 0.91023656 0.68207893]\n",
      " [0.1138464  0.45896549 0.90944906]\n",
      " [0.26896139 0.71277392 0.28612065]\n",
      " [0.08438937 0.85183243 0.57875728]\n",
      " [0.89120958 0.09952968 0.05983508]\n",
      " [0.10728215 0.81755583 0.69647456]\n",
      " [0.04697595 0.46374081 0.84692452]\n",
      " [0.19621898 0.31448185 0.10094372]\n",
      " [0.14432354 0.151902   0.15268814]\n",
      " [0.91396368 0.6366981  0.49799313]\n",
      " [0.96481032 0.77776757 0.9590301 ]\n",
      " [0.62969538 0.26553693 0.27918357]\n",
      " [0.672745   0.39777726 0.43920602]\n",
      " [0.00844792 0.28496083 0.3203462 ]\n",
      " [0.34576087 0.29320852 0.93130576]\n",
      " [0.75431181 0.28270268 0.26131351]\n",
      " [0.94960458 0.49249897 0.9074106 ]\n",
      " [0.67168041 0.86718363 0.39415143]\n",
      " [0.01475619 0.88459038 0.08783268]\n",
      " [0.45774233 0.04476637 0.09776394]\n",
      " [0.77106221 0.75022028 0.07220702]\n",
      " [0.03431257 0.85730637 0.22707268]\n",
      " [0.19449193 0.31919449 0.7653684 ]\n",
      " [0.06912017 0.19176973 0.71114786]\n",
      " [0.30123291 0.57566501 0.12911727]\n",
      " [0.28755619 0.53096654 0.01748444]\n",
      " [0.1105817  0.41925531 0.79536774]\n",
      " [0.64813135 0.91918795 0.29826869]]\n"
     ]
    }
   ],
   "source": [
    "# Establece el numero de entradas del mapa y el número de datos que se van a usar para entrenar. \n",
    "# Utiliza una función que obtenga automáticamente los valores a partir del Dataset.\n",
    "\n",
    "def obtener_Entrada(datos):\n",
    "   valor_aleatorio = np.random.randint(0,256)\n",
    "   return datos[valor_aleatorio]\n",
    "\n",
    "# Calcula el vecindario inicial. Debe ser la mitad del lado del mapa de Kohonen\n",
    "vecindario = lado_mapa/2\n",
    "\n",
    "# Normaliza los datos si fuese necesario dividiendo cada dato por el máximo en la matriz\n",
    "# Calculamos el valor maximo de la matriz\n",
    "\n",
    "valor_maximo = 0\n",
    "for dato in datos:\n",
    "    for valor in dato:\n",
    "        if(valor_maximo < valor):\n",
    "            valor_maximo = valor  \n",
    "      \n",
    "if normalizar_datos:\n",
    "    datos = datos/valor_max    \n",
    "    \n",
    "    \n",
    "# Crea una matriz de pesos con valores random entre 0 y 1. Usa la función random.random de la librería NumPy\n",
    "#matriz_pesos = np.random.random((dimensiones de la matriz de pesos))\n",
    "\n",
    "matriz_pesos = np.random.random((100,3))\n",
    "print(matriz_pesos)"
   ]
  },
  {
   "cell_type": "markdown",
   "metadata": {},
   "source": [
    "#### Funciones para entrenar/clasificar"
   ]
  },
  {
   "cell_type": "code",
   "execution_count": null,
   "metadata": {
    "collapsed": true
   },
   "outputs": [
    {
     "ename": "SyntaxError",
     "evalue": "incomplete input (3651684424.py, line 9)",
     "output_type": "error",
     "traceback": [
      "\u001b[1;36m  Cell \u001b[1;32mIn[30], line 9\u001b[1;36m\u001b[0m\n\u001b[1;33m    def calcular_bmu(patron_entrada, m_pesos, m):\u001b[0m\n\u001b[1;37m                                                 ^\u001b[0m\n\u001b[1;31mSyntaxError\u001b[0m\u001b[1;31m:\u001b[0m incomplete input\n"
     ]
    }
   ],
   "source": [
    "# Función para encontrar la BMU\n",
    "\"\"\"\n",
    "   Encuentra la BMU para un patrón de entrada.\n",
    "   Entradas: (patrón_de_entrada, matriz_de_pesos, número_de_entradas)\n",
    "   Salidas:  (bmu, bmu_idx) tupla donde\n",
    "               bmu: vector de pesos de la neurona ganadora\n",
    "               bum_idx: coordenadas de la neurona ganadora\n",
    "\"\"\"\n",
    "patron_entrada = obtener_Entrada(datos)\n",
    "def calcular_bmu(patron_entrada, m_pesos, m):"
   ]
  },
  {
   "cell_type": "code",
   "execution_count": null,
   "metadata": {
    "collapsed": true
   },
   "outputs": [],
   "source": [
    "# Función para calcular el descenso del coeficiente de aprendizaje (eta)\n",
    "\"\"\"\n",
    "   Calcula el Learning Rate (eta) que corresponde a la i-ésima presentación.\n",
    "   Entradas: (learning_rate_inicial, iteracion, período)\n",
    "   Salidas:  learning_rate para la iteración i\n",
    "\n",
    "\"\"\"\n",
    "def variacion_learning_rate(lr_inicial, i, n_iteraciones):"
   ]
  },
  {
   "cell_type": "code",
   "execution_count": null,
   "metadata": {
    "collapsed": true
   },
   "outputs": [],
   "source": [
    "# Función para calcular el descenso del vecindario (v)\n",
    "\"\"\"\n",
    "   Calcula el vecindario  (v) que corresponde a la i-ésima presentación.\n",
    "   Entradas: (vecindario_inicial, iteracion, período)\n",
    "   Salidas:  lvecindario para la iteración i\n",
    "\n",
    "\"\"\"\n",
    "def variacion_vecindario(vecindario_inicial, i, n_iteraciones):"
   ]
  },
  {
   "cell_type": "code",
   "execution_count": null,
   "metadata": {
    "collapsed": true
   },
   "outputs": [],
   "source": [
    "# Función para calcular el descenso del coeficiente de aprendizaje (eta) en función de la distancia a la BMU\n",
    "\"\"\"\n",
    "   Calcula la amortiguación de eta en función de la distancia en el mapa entre una neurona y la BMU.\n",
    "   Entradas: (distancia_BMU, vecindario_actual)\n",
    "   Salidas:  amortiguación para la iteración\n",
    "\n",
    "\"\"\"\n",
    "def decay(distancia_BMU, vecindario_actual):\n",
    "    return np.exp(-distancia_BMU / (2* (vecindario_actual**2)))"
   ]
  },
  {
   "cell_type": "markdown",
   "metadata": {},
   "source": [
    "#### Funciones para dibujar la salida de la red"
   ]
  },
  {
   "cell_type": "code",
   "execution_count": null,
   "metadata": {
    "collapsed": true
   },
   "outputs": [],
   "source": [
    "# Función para pintar una matriz de valores como colores RGB\n",
    "def pintar_mapa(matriz_valores):\n",
    "    fig = plt.figure()\n",
    "    \n",
    "    # Establece ejes\n",
    "    ax = fig.add_subplot(111, aspect='equal')\n",
    "    ax.set_xlim((0, matriz_pesos.shape[0]+1))\n",
    "    ax.set_ylim((0, matriz_pesos.shape[1]+1))\n",
    "    ax.set_title('Self-Organising Map después de %d iteraciones' % periodo)\n",
    "\n",
    "    # Dibuja los rectángulos de color RGB\n",
    "    for x in range(1, matriz_valores.shape[0] + 1):\n",
    "        for y in range(1, matriz_valores.shape[1] + 1):\n",
    "            ax.add_patch(patches.Rectangle((x-0.5, y-0.5), 1, 1,\n",
    "                         facecolor=matriz_valores[x-1,y-1,:],\n",
    "                         edgecolor='none'))\n",
    "    plt.show()"
   ]
  },
  {
   "cell_type": "markdown",
   "metadata": {},
   "source": [
    "## SOM Entrenamiento"
   ]
  },
  {
   "cell_type": "code",
   "execution_count": null,
   "metadata": {
    "collapsed": true
   },
   "outputs": [],
   "source": [
    "# Entrena la red con el dataset de entrenamiento\n",
    "\n"
   ]
  },
  {
   "cell_type": "markdown",
   "metadata": {},
   "source": [
    "## SOM Clasificación"
   ]
  },
  {
   "cell_type": "code",
   "execution_count": null,
   "metadata": {
    "collapsed": true
   },
   "outputs": [],
   "source": [
    "# Clasifica los patrones de entrenamiento con la matriz de pesos recién entrenada\n",
    "\n"
   ]
  },
  {
   "cell_type": "markdown",
   "metadata": {},
   "source": [
    "## SOM Prueba"
   ]
  },
  {
   "cell_type": "code",
   "execution_count": null,
   "metadata": {
    "collapsed": true
   },
   "outputs": [],
   "source": [
    "# Clasifica nuevos patrones\n",
    "\n"
   ]
  }
 ],
 "metadata": {
  "anaconda-cloud": {},
  "kernelspec": {
   "display_name": "Python 3",
   "language": "python",
   "name": "python3"
  },
  "language_info": {
   "codemirror_mode": {
    "name": "ipython",
    "version": 3
   },
   "file_extension": ".py",
   "mimetype": "text/x-python",
   "name": "python",
   "nbconvert_exporter": "python",
   "pygments_lexer": "ipython3",
   "version": "3.12.9"
  }
 },
 "nbformat": 4,
 "nbformat_minor": 2
}
